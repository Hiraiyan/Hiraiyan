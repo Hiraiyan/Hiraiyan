{
  "nbformat": 4,
  "nbformat_minor": 0,
  "metadata": {
    "colab": {
      "provenance": [],
      "authorship_tag": "ABX9TyPd9RbVAaqWNMlBJ+wPVtAn",
      "include_colab_link": true
    },
    "kernelspec": {
      "name": "python3",
      "display_name": "Python 3"
    },
    "language_info": {
      "name": "python"
    }
  },
  "cells": [
    {
      "cell_type": "markdown",
      "metadata": {
        "id": "view-in-github",
        "colab_type": "text"
      },
      "source": [
        "<a href=\"https://colab.research.google.com/github/Hiraiyan/Hiraiyan/blob/main/Dictionary_Activity.ipynb\" target=\"_parent\"><img src=\"https://colab.research.google.com/assets/colab-badge.svg\" alt=\"Open In Colab\"/></a>"
      ]
    },
    {
      "cell_type": "markdown",
      "source": [
        "# Dictionary\n",
        "Activity:\n",
        "Create an empty dictionary to store the following\n",
        "- 10 student names\n",
        "- test scores\n",
        "- display its average"
      ],
      "metadata": {
        "id": "srZTdONA03ef"
      }
    },
    {
      "cell_type": "code",
      "execution_count": null,
      "metadata": {
        "colab": {
          "base_uri": "https://localhost:8080/"
        },
        "id": "3Tx9RxAY0xgY",
        "outputId": "cf3a05cb-567b-46d2-a935-bdd41c93bc06"
      },
      "outputs": [
        {
          "output_type": "stream",
          "name": "stdout",
          "text": [
            "{'Student A': 11, 'Student B': 22, 'Student C': 33, 'Student D': 44, 'Student E': 55, 'Student F': 66, 'Student G': 77, 'Student H': 88, 'Student I': 99, 'Student J': 100}\n",
            "\n",
            "Total Grades of Students:\n",
            "595\n",
            "\n",
            "Average Grades of Students:\n",
            "59.5\n"
          ]
        }
      ],
      "source": [
        "Dictionary = dict()\n",
        "Dictionary[\"Student A\"] = 11\n",
        "Dictionary[\"Student B\"] = 22\n",
        "Dictionary[\"Student C\"] = 33\n",
        "Dictionary[\"Student D\"] = 44\n",
        "Dictionary[\"Student E\"] = 55\n",
        "Dictionary[\"Student F\"] = 66\n",
        "Dictionary[\"Student G\"] = 77\n",
        "Dictionary[\"Student H\"] = 88\n",
        "Dictionary[\"Student I\"] = 99\n",
        "Dictionary[\"Student J\"] = 100\n",
        "\n",
        "print(Dictionary)\n",
        "print(\"\\nTotal Grades of Students:\")\n",
        "print(sum(Dictionary.values()))\n",
        "print(\"\\nAverage Grades of Students:\")\n",
        "print(sum(Dictionary.values())/len(Dictionary))"
      ]
    },
    {
      "cell_type": "code",
      "source": [
        "print(\"Student Lists:\\n\")\n",
        "for key, value in Dictionary.items():\n",
        "  print(f\"{key}: {value}\")\n",
        "\n",
        "print(\"\\nTotal Grades of Students:\")\n",
        "print(sum(Dictionary.values()))\n",
        "print(\"\\nAverage Grades of Students:\")\n",
        "print(sum(Dictionary.values())/len(Dictionary))"
      ],
      "metadata": {
        "colab": {
          "base_uri": "https://localhost:8080/"
        },
        "id": "_jYKpDAn3YZJ",
        "outputId": "499fb576-249d-43a6-b071-902c53e59ef9"
      },
      "execution_count": null,
      "outputs": [
        {
          "output_type": "stream",
          "name": "stdout",
          "text": [
            "Student Lists:\n",
            "\n",
            "Student A: 11\n",
            "Student B: 22\n",
            "Student C: 33\n",
            "Student D: 44\n",
            "Student E: 55\n",
            "Student F: 66\n",
            "Student G: 77\n",
            "Student H: 88\n",
            "Student I: 99\n",
            "Student J: 100\n",
            "\n",
            "Total Grades of Students:\n",
            "595\n",
            "\n",
            "Average Grades of Students:\n",
            "59.5\n"
          ]
        }
      ]
    },
    {
      "cell_type": "code",
      "source": [],
      "metadata": {
        "id": "1ys7YrDk4ffa"
      },
      "execution_count": null,
      "outputs": []
    },
    {
      "cell_type": "markdown",
      "source": [
        "Students = dict()\n",
        "\n",
        "Student A = {\n",
        "  \"Section\": \"BSCS\",\n",
        "  \"GWA\": 1.4\n",
        "}\n"
      ],
      "metadata": {
        "id": "oaowkHsP6XSc"
      }
    },
    {
      "cell_type": "code",
      "source": [
        "Students = dict()\n",
        "\n",
        "Students[\"Student A\"] = {\n",
        "  \"Section\": \"BSCS\",\n",
        "  \"GWA\": 1.4\n",
        "}\n",
        "\n",
        "for student, info in Students.items():\n",
        "  print(student)\n",
        "  for key, value in info.items():\n",
        "    print(f\"{key}: {value}\")"
      ],
      "metadata": {
        "colab": {
          "base_uri": "https://localhost:8080/"
        },
        "id": "9a7wLH9-7xu0",
        "outputId": "e4b28e4c-48c9-4a46-b381-6813862381a3"
      },
      "execution_count": null,
      "outputs": [
        {
          "output_type": "stream",
          "name": "stdout",
          "text": [
            "Student A\n",
            "Section: BSCS\n",
            "GWA: 1.4\n"
          ]
        }
      ]
    },
    {
      "cell_type": "code",
      "source": [
        "!pip install names==0.3.0\n"
      ],
      "metadata": {
        "colab": {
          "base_uri": "https://localhost:8080/"
        },
        "id": "rQfQTRdb9eBT",
        "outputId": "c92718aa-7f4f-4e84-9653-ead3bb5b3d8c"
      },
      "execution_count": null,
      "outputs": [
        {
          "output_type": "stream",
          "name": "stdout",
          "text": [
            "Collecting names==0.3.0\n",
            "  Downloading names-0.3.0.tar.gz (789 kB)\n",
            "\u001b[2K     \u001b[90m━━━━━━━━━━━━━━━━━━━━━━━━━━━━━━━━━━━━━━━━\u001b[0m \u001b[32m789.1/789.1 kB\u001b[0m \u001b[31m3.8 MB/s\u001b[0m eta \u001b[36m0:00:00\u001b[0m\n",
            "\u001b[?25h  Preparing metadata (setup.py) ... \u001b[?25l\u001b[?25hdone\n",
            "Building wheels for collected packages: names\n",
            "  Building wheel for names (setup.py) ... \u001b[?25l\u001b[?25hdone\n",
            "  Created wheel for names: filename=names-0.3.0-py3-none-any.whl size=803682 sha256=c05a70096f7aaaa076475adf13c9fad01ee1d9991476fd6f1b22d1446dc5f035\n",
            "  Stored in directory: /root/.cache/pip/wheels/fc/9a/6f/78f4282bbcaa2d8c678b73c54c0bb1b7a04009f0d7cec79fce\n",
            "Successfully built names\n",
            "Installing collected packages: names\n",
            "Successfully installed names-0.3.0\n"
          ]
        }
      ]
    },
    {
      "cell_type": "code",
      "source": [
        "import random\n",
        "import names\n",
        "\n",
        "sections = [\"BSA\", \"BSPSYCH\", \"HMTM\", \"BSCS\"]\n",
        "grades = [1.0, 1.25, 1.5, 1.75, 2.0, 2.25, 2.5, 2.75, 3.0, 3.25, 3.5, 3.75, 4.0]\n",
        "\n",
        "Students = dict()\n",
        "\n",
        "for i in range(10):\n",
        "  student_name = names.get_full_name()\n",
        "  section = random.choice(sections)\n",
        "  gwa = random.choice(grades)\n",
        "  Students[student_name] = {\"Section\": section, \"GWA\": gwa}\n",
        "\n",
        "for student, info in Students.items():\n",
        "  print(student)\n",
        "  for key, value in info.items():\n",
        "    print(f\"{key}: {value}\")\n",
        "  print()\n"
      ],
      "metadata": {
        "colab": {
          "base_uri": "https://localhost:8080/"
        },
        "id": "9qM_ZMbQ81mb",
        "outputId": "4b8d7ca7-2abb-468e-d7d2-e435c16ee408"
      },
      "execution_count": null,
      "outputs": [
        {
          "output_type": "stream",
          "name": "stdout",
          "text": [
            "Daniel Sanchez\n",
            "Section: BSA\n",
            "GWA: 1.5\n",
            "\n",
            "Patricia Heidt\n",
            "Section: BSPSYCH\n",
            "GWA: 1.25\n",
            "\n",
            "Jo Caldwell\n",
            "Section: HMTM\n",
            "GWA: 1.5\n",
            "\n",
            "Ron Torres\n",
            "Section: BSCS\n",
            "GWA: 2.5\n",
            "\n",
            "Rose Yannone\n",
            "Section: HMTM\n",
            "GWA: 4.0\n",
            "\n",
            "Jason Nelsen\n",
            "Section: BSA\n",
            "GWA: 4.0\n",
            "\n",
            "Amy Baugh\n",
            "Section: BSA\n",
            "GWA: 1.75\n",
            "\n",
            "Kristy Blanchard\n",
            "Section: BSPSYCH\n",
            "GWA: 4.0\n",
            "\n",
            "Kirsten Gray\n",
            "Section: BSA\n",
            "GWA: 1.5\n",
            "\n",
            "Alicia Kelley\n",
            "Section: BSCS\n",
            "GWA: 2.0\n",
            "\n"
          ]
        }
      ]
    },
    {
      "cell_type": "code",
      "source": [
        "gwa_values = [info['GWA'] for info in Students.values()]\n",
        "print(\"\\nAverage GWA of Students:\")\n",
        "print(sum(gwa_values)/len(Students))\n"
      ],
      "metadata": {
        "colab": {
          "base_uri": "https://localhost:8080/"
        },
        "id": "JD84Wkaw7683",
        "outputId": "94b4af79-682a-4cab-cab6-9e6a403e4f8a"
      },
      "execution_count": null,
      "outputs": [
        {
          "output_type": "stream",
          "name": "stdout",
          "text": [
            "\n",
            "Average GWA of Students:\n",
            "2.4\n"
          ]
        }
      ]
    },
    {
      "cell_type": "code",
      "source": [
        "\n",
        "\n",
        "for student in Students.copy():\n",
        "  if Students[student]['GWA'] > 2.0:\n",
        "    del Students[student]\n",
        "\n",
        "  print(student)\n",
        "\n"
      ],
      "metadata": {
        "colab": {
          "base_uri": "https://localhost:8080/"
        },
        "id": "DjJyM9UV-Xgl",
        "outputId": "2eab4305-4782-486c-b308-bb8fc782e2c0"
      },
      "execution_count": null,
      "outputs": [
        {
          "output_type": "stream",
          "name": "stdout",
          "text": [
            "Jamie Mcqueen\n",
            "Elizabeth Hensley\n",
            "Daniel Bilbao\n"
          ]
        }
      ]
    },
    {
      "cell_type": "code",
      "source": [],
      "metadata": {
        "id": "3VkHO5vkAw2R"
      },
      "execution_count": null,
      "outputs": []
    }
  ]
}