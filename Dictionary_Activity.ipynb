{
  "nbformat": 4,
  "nbformat_minor": 0,
  "metadata": {
    "colab": {
      "provenance": [],
      "authorship_tag": "ABX9TyMfis+No0tULCLuHkvktenx",
      "include_colab_link": true
    },
    "kernelspec": {
      "name": "python3",
      "display_name": "Python 3"
    },
    "language_info": {
      "name": "python"
    }
  },
  "cells": [
    {
      "cell_type": "markdown",
      "metadata": {
        "id": "view-in-github",
        "colab_type": "text"
      },
      "source": [
        "<a href=\"https://colab.research.google.com/github/Hiraiyan/Hiraiyan/blob/main/Dictionary_Activity.ipynb\" target=\"_parent\"><img src=\"https://colab.research.google.com/assets/colab-badge.svg\" alt=\"Open In Colab\"/></a>"
      ]
    },
    {
      "cell_type": "markdown",
      "source": [
        "# Dictionary\n",
        "Activity:\n",
        "Create an empty dictionary to store the following\n",
        "- 10 student names\n",
        "- test scores\n",
        "- display its average"
      ],
      "metadata": {
        "id": "srZTdONA03ef"
      }
    },
    {
      "cell_type": "code",
      "execution_count": 10,
      "metadata": {
        "colab": {
          "base_uri": "https://localhost:8080/"
        },
        "id": "3Tx9RxAY0xgY",
        "outputId": "cf3a05cb-567b-46d2-a935-bdd41c93bc06"
      },
      "outputs": [
        {
          "output_type": "stream",
          "name": "stdout",
          "text": [
            "{'Student A': 11, 'Student B': 22, 'Student C': 33, 'Student D': 44, 'Student E': 55, 'Student F': 66, 'Student G': 77, 'Student H': 88, 'Student I': 99, 'Student J': 100}\n",
            "\n",
            "Total Grades of Students:\n",
            "595\n",
            "\n",
            "Average Grades of Students:\n",
            "59.5\n"
          ]
        }
      ],
      "source": [
        "Dictionary = dict()\n",
        "Dictionary[\"Student A\"] = 11\n",
        "Dictionary[\"Student B\"] = 22\n",
        "Dictionary[\"Student C\"] = 33\n",
        "Dictionary[\"Student D\"] = 44\n",
        "Dictionary[\"Student E\"] = 55\n",
        "Dictionary[\"Student F\"] = 66\n",
        "Dictionary[\"Student G\"] = 77\n",
        "Dictionary[\"Student H\"] = 88\n",
        "Dictionary[\"Student I\"] = 99\n",
        "Dictionary[\"Student J\"] = 100\n",
        "\n",
        "print(Dictionary)\n",
        "print(\"\\nTotal Grades of Students:\")\n",
        "print(sum(Dictionary.values()))\n",
        "print(\"\\nAverage Grades of Students:\")\n",
        "print(sum(Dictionary.values())/len(Dictionary))"
      ]
    },
    {
      "cell_type": "code",
      "source": [
        "print(\"Student Lists:\\n\")\n",
        "for key, value in Dictionary.items():\n",
        "  print(f\"{key}: {value}\")\n",
        "\n",
        "print(\"\\nTotal Grades of Students:\")\n",
        "print(sum(Dictionary.values()))\n",
        "print(\"\\nAverage Grades of Students:\")\n",
        "print(sum(Dictionary.values())/len(Dictionary))"
      ],
      "metadata": {
        "colab": {
          "base_uri": "https://localhost:8080/"
        },
        "id": "_jYKpDAn3YZJ",
        "outputId": "499fb576-249d-43a6-b071-902c53e59ef9"
      },
      "execution_count": 15,
      "outputs": [
        {
          "output_type": "stream",
          "name": "stdout",
          "text": [
            "Student Lists:\n",
            "\n",
            "Student A: 11\n",
            "Student B: 22\n",
            "Student C: 33\n",
            "Student D: 44\n",
            "Student E: 55\n",
            "Student F: 66\n",
            "Student G: 77\n",
            "Student H: 88\n",
            "Student I: 99\n",
            "Student J: 100\n",
            "\n",
            "Total Grades of Students:\n",
            "595\n",
            "\n",
            "Average Grades of Students:\n",
            "59.5\n"
          ]
        }
      ]
    },
    {
      "cell_type": "code",
      "source": [],
      "metadata": {
        "id": "1ys7YrDk4ffa"
      },
      "execution_count": null,
      "outputs": []
    }
  ]
}